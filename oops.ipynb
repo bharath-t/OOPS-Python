{
 "cells": [
  {
   "cell_type": "markdown",
   "id": "14baa243-4287-45dc-aebc-a0142e0fce7f",
   "metadata": {},
   "source": [
    "## Class\n",
    "Has properties, methods. Define using 'class' keyword\n",
    "\n",
    "#### Properties: \n",
    "- Class properties: Each instance of class will have same value\n",
    "- instance properties: Each instance of class will have values what it is initialised with\n",
    "\n",
    "#### Methods: \n",
    "- Instance methods: takes in self as first argument, needs no decorator.\n",
    "- Class methods: takes in 'cls' (standard not must) as first arg. can be used to update class variables or as an alternate constructor.\n",
    "- Static methods: normal python function but is relevant to class. does not depend on self or class object. "
   ]
  },
  {
   "cell_type": "code",
   "execution_count": 39,
   "id": "570da4fb-42c1-406d-863a-4bf0278a6433",
   "metadata": {},
   "outputs": [],
   "source": [
    "import hashlib\n",
    "class Employee():\n",
    "    # global variables \n",
    "    # (_variablename is standard naming convention in python to define private variables)\n",
    "    # ONLY NAMING NOT ENFORSED: You could still modify private variables in python\n",
    "    \n",
    "    _company = 'abc' \n",
    "    num_emp = 0\n",
    "\n",
    "    # constructor\n",
    "    def __init__(self, fname, lname, sal):\n",
    "        self.fname = fname\n",
    "        self.lname = lname\n",
    "        self.sal = sal\n",
    "        # using instance method to update class variable. \n",
    "        self.set_num_emp()         \n",
    "        # we could directly use class object here and increment by 1\n",
    "        # Employee.num_emp += 1 \n",
    "\n",
    "    # instance method\n",
    "    def print_emp(self):\n",
    "        return f'company: {self._company}, full name: {self.fname} {self.lname}, sal: {self.sal}'\n",
    "\n",
    "    # instance method to update class variable\n",
    "    def set_num_emp(self):\n",
    "        Employee.num_emp += 1\n",
    "\n",
    "    # instance method defined as property. use @property decorator. can be accessed as a property. no () required. \n",
    "    # This is python's implementation of getter\n",
    "    @property\n",
    "    def fullname(self):\n",
    "        return f'{self.fname} {self.lname}'\n",
    "\n",
    "    \n",
    "    @classmethod\n",
    "    def from_string(cls, str): #cls is mandatory as first arg.\n",
    "        fname, lname, pay = str.split('|')\n",
    "        # return Employee(fname, lname, pay) - works but not advised. crazy things happen when we use inheritence\n",
    "        return cls(fname, lname, pay)\n",
    "\n",
    "    # normal python function to return a hash from string\n",
    "    # can be made instance method as well. but make static if instance details are not required\n",
    "    @staticmethod\n",
    "    def get_hash(fullname):\n",
    "        md5 = hashlib.md5()        \n",
    "        md5.update(fullname.encode())        \n",
    "        return md5.hexdigest()\n",
    "        \n",
    "        "
   ]
  },
  {
   "cell_type": "markdown",
   "id": "4efb210f-2214-4dcc-a7ba-2699f40d7171",
   "metadata": {},
   "source": [
    "## accessing class variables, static methods without instance creation"
   ]
  },
  {
   "cell_type": "code",
   "execution_count": 166,
   "id": "d68df22b-01cb-4fa7-a37a-0d39154b451e",
   "metadata": {},
   "outputs": [
    {
     "name": "stdout",
     "output_type": "stream",
     "text": [
      "company name Google\n",
      "num employees 13\n",
      "hash of company name is 8b36e9207c24c76e6719268e49201d94\n"
     ]
    }
   ],
   "source": [
    "print(f'company name {Employee._company}')\n",
    "print(f'num employees {Employee.num_emp}')\n",
    "print(f'hash of company name is {Employee.get_hash(Employee._company)}')"
   ]
  },
  {
   "cell_type": "markdown",
   "id": "801c59e6-63ee-4bf7-bc06-3f434c4ed952",
   "metadata": {},
   "source": [
    "## creating instance"
   ]
  },
  {
   "cell_type": "code",
   "execution_count": 167,
   "id": "6f6dd9e7-dc9a-4a7a-ad5f-dcbcff8db190",
   "metadata": {},
   "outputs": [
    {
     "name": "stdout",
     "output_type": "stream",
     "text": [
      "Jeff\n",
      "B\n",
      "company: Google, full name: Jeff B, sal: 100\n",
      "Jeff B\n"
     ]
    }
   ],
   "source": [
    "\n",
    "emp1 = Employee('Jeff','B',100)\n",
    "\n",
    "# accessing instance properties\n",
    "print(emp1.fname)\n",
    "print(emp1.lname)\n",
    "\n",
    "# using instance methods. () is required\n",
    "print(emp1.print_emp()) \n",
    "\n",
    "# using method as property. () not required\n",
    "print(emp1.fullname)\n"
   ]
  },
  {
   "cell_type": "markdown",
   "id": "838a2f50-1259-4d87-98c5-0c971e13547e",
   "metadata": {},
   "source": [
    "## using class method to create instance differently. alternate constructor"
   ]
  },
  {
   "cell_type": "code",
   "execution_count": 168,
   "id": "2ee58c7b-87c1-4038-a595-e217c1fca3a4",
   "metadata": {},
   "outputs": [
    {
     "name": "stdout",
     "output_type": "stream",
     "text": [
      "company: Google, full name: Elon M, sal: 200\n",
      "num employees 15\n"
     ]
    }
   ],
   "source": [
    "# using | separated string instead of fname, lname, pay\n",
    "emp2 = Employee.from_string('Elon|M|200')\n",
    "print(emp2.print_emp())\n",
    "print(f'num employees {Employee.num_emp}')\n"
   ]
  },
  {
   "cell_type": "markdown",
   "id": "1a96501f-258b-48ac-9678-54f4c538b902",
   "metadata": {},
   "source": [
    "## modify class variables"
   ]
  },
  {
   "cell_type": "code",
   "execution_count": 169,
   "id": "3377ebee-bae0-41af-95bb-1a961f79128a",
   "metadata": {},
   "outputs": [
    {
     "name": "stdout",
     "output_type": "stream",
     "text": [
      "company: Google, full name: Jeff B, sal: 100\n",
      "company: Google, full name: Elon M, sal: 200\n",
      "company: Google, full name: Sunder P, sal: 300\n",
      "company: Amazon, full name: Jeff B, sal: 100\n",
      "company: Tesla, full name: Elon M, sal: 200\n",
      "company: Google, full name: Sunder P, sal: 300\n"
     ]
    }
   ],
   "source": [
    "# Modifying class variables using Class\n",
    "Employee._company = 'Google'\n",
    "emp3 = Employee('Sunder','P',300)\n",
    "print(emp1.print_emp())\n",
    "print(emp2.print_emp())\n",
    "print(emp3.print_emp())\n",
    "# Notice that company for emp1,emp2 also changed to google. reason (in print_emp, we are using self.company and we changed it to Google)\n",
    "\n",
    "\n",
    "# Instead modify the class variable for specific instance\n",
    "Employee.company = 'abc' # reverting to 'abc' \n",
    "\n",
    "emp1._company = 'Amazon'\n",
    "emp2._company = 'Tesla'\n",
    "emp3._company = 'Google'\n",
    "print(emp1.print_emp())\n",
    "print(emp2.print_emp())\n",
    "print(emp3.print_emp())"
   ]
  },
  {
   "cell_type": "markdown",
   "id": "95f46835-a1a2-4140-b59a-e98ddf3a1e2d",
   "metadata": {},
   "source": [
    "## Getters, Setters, Deleters\n",
    "- in our current class implementation, we could modify class variables, instance variables (both public + private) \n",
    "outside class implementation as we want. This should not be the case. \n",
    "- We should do necessary checks if the value to be updated is correct, do some validations. dont give access to private variables at all\n",
    "\n",
    "## Getters: @property\n",
    "## Setters: @property_name.setter\n",
    "## Deleters: @property_name.deleter"
   ]
  },
  {
   "cell_type": "code",
   "execution_count": 170,
   "id": "9157872a-d458-4e8f-af83-076234f356ed",
   "metadata": {},
   "outputs": [],
   "source": [
    "import hashlib\n",
    "class Employee2():\n",
    "    def __init__(self, fname, lname, sal, company=None):\n",
    "        self.fname = fname\n",
    "        self.lname = lname\n",
    "        self.sal = sal\n",
    "        self._company = company if company else 'abc'\n",
    "\n",
    "    def print_emp(self):\n",
    "        return f'company: {self._company}, full name: {self.fname} {self.lname}, sal: {self.sal}'\n",
    "\n",
    "    @property\n",
    "    def company(self):\n",
    "        return self._company\n",
    "\n",
    "    @company.setter\n",
    "    def company(self, value):\n",
    "        if isinstance(value, str) and value: #checking if string, value is present\n",
    "            self._company = value\n",
    "        else:\n",
    "            raise ValueError(\"Company must be a non-empty string\")        \n",
    "\n",
    "    @property\n",
    "    def fullname(self):\n",
    "        return f'{self.fname} {self.lname}'\n",
    "    \n",
    "    @classmethod\n",
    "    def from_string(cls, str): #cls is mandatory as first arg.\n",
    "        fname, lname, pay = str.split('|')\n",
    "        return cls(fname, lname, pay)       \n",
    "        "
   ]
  },
  {
   "cell_type": "code",
   "execution_count": 171,
   "id": "5a976873-7583-43b4-8109-8c262c89b56a",
   "metadata": {},
   "outputs": [
    {
     "name": "stdout",
     "output_type": "stream",
     "text": [
      "company: abc, full name: Jeff B, sal: 100\n",
      "company: Amazon, full name: Jeff B, sal: 100\n"
     ]
    },
    {
     "ename": "ValueError",
     "evalue": "Company must be a non-empty string",
     "output_type": "error",
     "traceback": [
      "\u001b[0;31m---------------------------------------------------------------------------\u001b[0m",
      "\u001b[0;31mValueError\u001b[0m                                Traceback (most recent call last)",
      "Cell \u001b[0;32mIn[171], line 8\u001b[0m\n\u001b[1;32m      4\u001b[0m emp1\u001b[38;5;241m.\u001b[39mcompany \u001b[38;5;241m=\u001b[39m \u001b[38;5;124m'\u001b[39m\u001b[38;5;124mAmazon\u001b[39m\u001b[38;5;124m'\u001b[39m\n\u001b[1;32m      5\u001b[0m \u001b[38;5;28mprint\u001b[39m(emp1\u001b[38;5;241m.\u001b[39mprint_emp())\n\u001b[0;32m----> 8\u001b[0m \u001b[43memp1\u001b[49m\u001b[38;5;241;43m.\u001b[39;49m\u001b[43mcompany\u001b[49m \u001b[38;5;241m=\u001b[39m \u001b[38;5;241m1\u001b[39m \u001b[38;5;66;03m## fails as this doesn't pass setter validation\u001b[39;00m\n",
      "Cell \u001b[0;32mIn[170], line 21\u001b[0m, in \u001b[0;36mEmployee2.company\u001b[0;34m(self, value)\u001b[0m\n\u001b[1;32m     19\u001b[0m     \u001b[38;5;28mself\u001b[39m\u001b[38;5;241m.\u001b[39m_company \u001b[38;5;241m=\u001b[39m value\n\u001b[1;32m     20\u001b[0m \u001b[38;5;28;01melse\u001b[39;00m:\n\u001b[0;32m---> 21\u001b[0m     \u001b[38;5;28;01mraise\u001b[39;00m \u001b[38;5;167;01mValueError\u001b[39;00m(\u001b[38;5;124m\"\u001b[39m\u001b[38;5;124mCompany must be a non-empty string\u001b[39m\u001b[38;5;124m\"\u001b[39m)\n",
      "\u001b[0;31mValueError\u001b[0m: Company must be a non-empty string"
     ]
    }
   ],
   "source": [
    "emp1 = Employee2('Jeff','B',100)\n",
    "print(emp1.print_emp())\n",
    "\n",
    "emp1.company = 'Amazon'\n",
    "print(emp1.print_emp())\n",
    "\n",
    "\n",
    "emp1.company = 1 ## fails as this doesn't pass setter validation\n",
    "\n"
   ]
  },
  {
   "cell_type": "markdown",
   "id": "15eaa3b8-472d-46ba-9722-50067f1863a0",
   "metadata": {},
   "source": [
    "## Notes:\n",
    "- notice that we moved company from class variable to instance variable. we can only use setter, getter in python on instance variables.\n",
    "- first define getter using @property, use propertyname.setter decorator\n",
    "- if we want to use company as class variable and still use getter, setter, then we have to chain\n",
    "- create a new class with company as single instance variable, define getter, setter in that class, \n",
    "in current class user getter, setter from basecalss\n"
   ]
  },
  {
   "cell_type": "code",
   "execution_count": 172,
   "id": "f1d1f0bf-5020-4c2e-8ffe-2b1fae4d3580",
   "metadata": {},
   "outputs": [],
   "source": [
    "class CompanyClass:\n",
    "    def __init__(self, value):\n",
    "        self.value = value\n",
    "\n",
    "    @property\n",
    "    def company(self):\n",
    "        return self.value\n",
    "\n",
    "    @company.setter\n",
    "    def company(self, new_value):\n",
    "        if isinstance(new_value, str) and new_value: #checking if string, value is present\n",
    "            self.value = new_value\n",
    "        else:\n",
    "            raise ValueError(\"Company must be a non-empty string\")      \n",
    "\n",
    "    def __delete__(self, instance):\n",
    "        raise AttributeError(\"Cannot delete attribute\")\n",
    "\n",
    "class Employee3:\n",
    "    _company_class = CompanyClass('abc')\n",
    "    def __init__(self, fname, lname, sal, company=None):\n",
    "        self.fname = fname\n",
    "        self.lname = lname\n",
    "        self.sal = sal\n",
    "        if company:\n",
    "            self.company = company\n",
    "\n",
    "    @property\n",
    "    def company(self):\n",
    "        return Employee3._company_class.company #using getter from base class (CompanyClass)\n",
    "\n",
    "    @company.setter\n",
    "    def company(self, new_value):\n",
    "        Employee3._company_class.company = new_value #using setter from base class (CompanyClass)\n",
    "    \n",
    "\n",
    "    def print_emp(self):\n",
    "        return f'company: {self.company}, full name: {self.fname} {self.lname}, sal: {self.sal}'\n",
    "\n",
    "    @property\n",
    "    def fullname(self):\n",
    "        return f'{self.fname} {self.lname}'\n",
    "\n"
   ]
  },
  {
   "cell_type": "code",
   "execution_count": 173,
   "id": "5e367f26-4f8c-4f3b-9868-143358363b1e",
   "metadata": {},
   "outputs": [
    {
     "name": "stdout",
     "output_type": "stream",
     "text": [
      "company: abc, full name: Jeff B, sal: 100\n",
      "company: Amazon, full name: Jeff B, sal: 100\n"
     ]
    },
    {
     "ename": "ValueError",
     "evalue": "Company must be a non-empty string",
     "output_type": "error",
     "traceback": [
      "\u001b[0;31m---------------------------------------------------------------------------\u001b[0m",
      "\u001b[0;31mValueError\u001b[0m                                Traceback (most recent call last)",
      "Cell \u001b[0;32mIn[173], line 8\u001b[0m\n\u001b[1;32m      5\u001b[0m \u001b[38;5;28mprint\u001b[39m(emp1\u001b[38;5;241m.\u001b[39mprint_emp())\n\u001b[1;32m      7\u001b[0m \u001b[38;5;66;03m# Notice that the setters are chained, we are getting the error from setter of base class\u001b[39;00m\n\u001b[0;32m----> 8\u001b[0m \u001b[43memp1\u001b[49m\u001b[38;5;241;43m.\u001b[39;49m\u001b[43mcompany\u001b[49m \u001b[38;5;241m=\u001b[39m \u001b[38;5;124m'\u001b[39m\u001b[38;5;124m'\u001b[39m\n\u001b[1;32m      9\u001b[0m \u001b[38;5;28mprint\u001b[39m(emp1\u001b[38;5;241m.\u001b[39mprint_emp())\n",
      "Cell \u001b[0;32mIn[172], line 34\u001b[0m, in \u001b[0;36mEmployee3.company\u001b[0;34m(self, new_value)\u001b[0m\n\u001b[1;32m     32\u001b[0m \u001b[38;5;129m@company\u001b[39m\u001b[38;5;241m.\u001b[39msetter\n\u001b[1;32m     33\u001b[0m \u001b[38;5;28;01mdef\u001b[39;00m \u001b[38;5;21mcompany\u001b[39m(\u001b[38;5;28mself\u001b[39m, new_value):\n\u001b[0;32m---> 34\u001b[0m     \u001b[43mEmployee3\u001b[49m\u001b[38;5;241;43m.\u001b[39;49m\u001b[43m_company_class\u001b[49m\u001b[38;5;241;43m.\u001b[39;49m\u001b[43mcompany\u001b[49m \u001b[38;5;241m=\u001b[39m new_value\n",
      "Cell \u001b[0;32mIn[172], line 14\u001b[0m, in \u001b[0;36mCompanyClass.company\u001b[0;34m(self, new_value)\u001b[0m\n\u001b[1;32m     12\u001b[0m     \u001b[38;5;28mself\u001b[39m\u001b[38;5;241m.\u001b[39mvalue \u001b[38;5;241m=\u001b[39m new_value\n\u001b[1;32m     13\u001b[0m \u001b[38;5;28;01melse\u001b[39;00m:\n\u001b[0;32m---> 14\u001b[0m     \u001b[38;5;28;01mraise\u001b[39;00m \u001b[38;5;167;01mValueError\u001b[39;00m(\u001b[38;5;124m\"\u001b[39m\u001b[38;5;124mCompany must be a non-empty string\u001b[39m\u001b[38;5;124m\"\u001b[39m)\n",
      "\u001b[0;31mValueError\u001b[0m: Company must be a non-empty string"
     ]
    }
   ],
   "source": [
    "emp1 = Employee3('Jeff','B',100)\n",
    "print(emp1.print_emp())\n",
    "\n",
    "emp1.company = 'Amazon'\n",
    "print(emp1.print_emp())\n",
    "\n",
    "\n",
    "emp1.company = '' # Fails as validation check fails. Notice that the setters are chained, we are getting the error from setter of base class\n",
    "print(emp1.print_emp())\n"
   ]
  },
  {
   "cell_type": "markdown",
   "id": "6d67efb1-0038-4ea1-971d-61771af46986",
   "metadata": {},
   "source": [
    "# Inheritance\n",
    "- Mechanism to create a new class from an existing class, inheriting attributes and methods."
   ]
  },
  {
   "cell_type": "markdown",
   "id": "ee1bf4b4-ff69-41f6-85bd-7da395d46f7c",
   "metadata": {},
   "source": [
    "## Code Reusability:\n",
    "- use existing class to create a new class. this new class will have access to all variables, methods of base class\n",
    "- Eg: Manager is also an employee. Only additional info required for manager is list of reportees.\n",
    "\n",
    "## Extensibility: (Extends)\n",
    "- add new variables/ methods for base class (eg: reportee_list, add_reportee, remove_reportee. Manager has these but employee doesn't)"
   ]
  },
  {
   "cell_type": "code",
   "execution_count": 189,
   "id": "fca91916-d509-496d-b321-e50c76ff634d",
   "metadata": {},
   "outputs": [],
   "source": [
    "# Base class/ parent class\n",
    "class Employee2():\n",
    "    def __init__(self, fname, lname, sal, company=None):\n",
    "        self.fname = fname\n",
    "        self.lname = lname\n",
    "        self.sal = sal\n",
    "        self.company = company if company else 'abc'\n",
    "\n",
    "    def print_emp(self):\n",
    "        return f'company: {self._company}, full name: {self.fname} {self.lname}, sal: {self.sal}'\n",
    "\n",
    "    @property\n",
    "    def fullname(self):\n",
    "        return f'{self.fname} {self.lname}'\n",
    "    \n",
    "    @classmethod\n",
    "    def from_string(cls, str): #cls is mandatory as first arg.\n",
    "        fname, lname, pay = str.split('|')\n",
    "        return cls(fname, lname, pay)       \n",
    "\n",
    "# \"class Manager(Employee2)\" in python is same as \"class Manager extends Employee2\" in Java\n",
    "class Manager(Employee2): \n",
    "    def __init__(self, fname, lname, sal, company=None, reportee_list=None):\n",
    "        super().__init__(fname, lname, sal, company)\n",
    "        if reportee_list is None:\n",
    "            reportee_list = []\n",
    "        self.reportee_list = reportee_list\n",
    "    \n",
    "    def print_reportee(self):\n",
    "        print(f'{self.fname} {self.lname}')\n",
    "        for x in self.reportee_list:\n",
    "            print(f'-- {x.fname} {x.lname}')\n",
    "\n",
    "    def add_reportee(self, emp):\n",
    "        if emp not in self.reportee_list:\n",
    "            self.reportee_list.append(emp)\n",
    "\n",
    "    def remove_reportee(self, emp):\n",
    "        if emp in self.reportee_list:\n",
    "            self.reportee_list.remove(emp)\n"
   ]
  },
  {
   "cell_type": "code",
   "execution_count": 190,
   "id": "1e171c68-f729-4cf8-9101-d4783f904b18",
   "metadata": {},
   "outputs": [
    {
     "name": "stdout",
     "output_type": "stream",
     "text": [
      "Bharath T\n",
      "-- Jeff B\n",
      "Bharath T\n",
      "-- Jeff B\n",
      "-- Sundar P\n",
      "-- Elon M\n",
      "Bharath T\n",
      "-- Jeff B\n",
      "-- Elon M\n"
     ]
    }
   ],
   "source": [
    "emp1 = Employee2.from_string('Jeff|B|100')\n",
    "emp2 = Employee2.from_string('Sundar|P|200')\n",
    "emp3 = Employee2.from_string('Elon|M|300')\n",
    "\n",
    "## We need to pass all the props required by base class + new props required by new class during instantiation\n",
    "mgr1 = Manager('Bharath','T',1000,'IND',[emp1])\n",
    "mgr1.print_reportee()\n",
    "mgr1.add_reportee(emp2)\n",
    "mgr1.add_reportee(emp3)\n",
    "mgr1.print_reportee()\n",
    "mgr1.remove_reportee(emp2)\n",
    "mgr1.print_reportee()\n",
    "\n",
    "# Note: We are not able directly edit fname, lname, pay, company of employee object if we use manager class"
   ]
  },
  {
   "cell_type": "markdown",
   "id": "ec2ab518-3ea3-42f6-8f19-0b137918dc3f",
   "metadata": {},
   "source": [
    "## polymorphism : \n",
    "- Polymorphism is the ability of different objects to be treated as instances of the same class through a common interface or base class.\n",
    "- It allows methods to operate on objects of different classes as if they are of the same class.\n",
    "- define layout, let all sub classes implement them separately. \n",
    "- we can use a single funtion to handle all base object calls (eg: speak) of diff derived classes (eg: cat, dog)\n",
    "- ALL SUBCLASSES MUST HAVE ALL METHODS IMPLEMENTED IN BASE CLASS."
   ]
  },
  {
   "cell_type": "code",
   "execution_count": 191,
   "id": "a0c51fb7-0f51-4d8b-ab78-3efe7ef6ffb4",
   "metadata": {},
   "outputs": [
    {
     "name": "stdout",
     "output_type": "stream",
     "text": [
      "Bark\n",
      "Meow\n"
     ]
    }
   ],
   "source": [
    "class Animal:\n",
    "    def speak(self):\n",
    "        raise NotImplementedError(\"Subclass must implement this method\")\n",
    "\n",
    "class Dog(Animal):\n",
    "    def speak(self):\n",
    "        return 'Bark'\n",
    "\n",
    "class Cat(Animal):\n",
    "    def speak(self):\n",
    "        return 'Meow'\n",
    "\n",
    "def make_animal_speak(animal):\n",
    "    return animal.speak()\n",
    "\n",
    "dog = Dog()\n",
    "cat = Cat()\n",
    "print(make_animal_speak(dog))\n",
    "print(make_animal_speak(cat))"
   ]
  },
  {
   "cell_type": "markdown",
   "id": "b45f6cad-bad7-42b7-b6f8-38c0211024fb",
   "metadata": {},
   "source": [
    "## specialization: \n",
    "- Creating a subclass that extends or modifies the behavior of a base class to cater to more specific needs.\n",
    "- similar to polymorphism. Allows you to add custom behaviour for each subclass based on behaviour. \n",
    "- Eg: dog can bark, cat can purr"
   ]
  },
  {
   "cell_type": "code",
   "execution_count": 192,
   "id": "66b83267-4966-434f-a5f4-9a265e11d941",
   "metadata": {},
   "outputs": [
    {
     "name": "stdout",
     "output_type": "stream",
     "text": [
      "I am a dog, name is Lucky\n",
      "Bark\n",
      "I am a Cat, name is Malli\n",
      "Meow\n"
     ]
    }
   ],
   "source": [
    "class Animal:\n",
    "    def __init__(self, name):\n",
    "        self.name = name\n",
    "\n",
    "    def speak(self):\n",
    "        raise NotImplementedError(\"Subclass must implement this method\")\n",
    "\n",
    "    def info(self):\n",
    "        raise NotImplementedError(\"Subclass must implement this method\")\n",
    "\n",
    "class Dog(Animal):\n",
    "    def speak(self):\n",
    "        return 'Bark'\n",
    "\n",
    "    def info(self):\n",
    "        return f'I am a dog, name is {self.name}'\n",
    "\n",
    "    def bark(self):\n",
    "        return 'Bark'\n",
    "\n",
    "class Cat(Animal):\n",
    "    def speak(self):\n",
    "        return 'Meow'\n",
    "\n",
    "    def info(self):\n",
    "        return f'I am a Cat, name is {self.name}'\n",
    "\n",
    "    def meow(self):\n",
    "        return 'Meow'\n",
    "\n",
    "\n",
    "dog = Dog('Lucky')\n",
    "cat = Cat('Malli')\n",
    "print(dog.info())\n",
    "print(dog.bark())\n",
    "\n",
    "\n",
    "print(cat.info())\n",
    "print(cat.meow())"
   ]
  },
  {
   "cell_type": "markdown",
   "id": "384617f5-ea6e-4d98-8dcb-973b72900d0b",
   "metadata": {},
   "source": [
    "- Eg2: Circle, rectangle extends share class, their area is calculated differently"
   ]
  },
  {
   "cell_type": "code",
   "execution_count": 193,
   "id": "e3e1fbfa-fd31-4c2f-a953-0713e13c00cb",
   "metadata": {},
   "outputs": [
    {
     "name": "stdout",
     "output_type": "stream",
     "text": [
      "3.14\n",
      "2\n"
     ]
    }
   ],
   "source": [
    "class Shape():\n",
    "    def area():\n",
    "        raise NotImplementedError(\"Subclass must implement this method\")\n",
    "\n",
    "class Circle(Shape):\n",
    "    def __init__(self, radius):\n",
    "        self.radius = radius\n",
    "\n",
    "    def area(self):\n",
    "        return 3.14 * self.radius * self.radius\n",
    "\n",
    "class Rectangle(Shape):\n",
    "    def __init__(self, length, breadth):\n",
    "        self.length = length\n",
    "        self.breadth = breadth\n",
    "\n",
    "    def area(self):\n",
    "        return self.length * self.breadth\n",
    "\n",
    "\n",
    "circle = Circle(1)\n",
    "rectangle = Rectangle(1,2)\n",
    "\n",
    "print(circle.area())\n",
    "print(rectangle.area())"
   ]
  },
  {
   "cell_type": "markdown",
   "id": "37d0d15e-402e-4ef6-a6fe-612c8946a491",
   "metadata": {},
   "source": [
    "## abstraction\n",
    "- Hiding the complex implementation details and showing only the necessary features of an object.\n",
    "- Similar to specialization\n",
    "- additional import, @abstractmethod decorater"
   ]
  },
  {
   "cell_type": "code",
   "execution_count": null,
   "id": "e4e26298-e6ef-4800-9f7b-f65235a59a72",
   "metadata": {},
   "outputs": [],
   "source": [
    "from abc import ABC, abstractmethod\n",
    "\n",
    "class Shape(ABC):\n",
    "    @abstractmethod\n",
    "    def area(self):\n",
    "        pass\n",
    "\n",
    "    @abstractmethod\n",
    "    def perimeter(self):\n",
    "        pass\n",
    "\n",
    "class Rectangle(Shape):\n",
    "    def __init__(self, width, height):\n",
    "        self.width = width\n",
    "        self.height = height\n",
    "\n",
    "    def area(self):\n",
    "        return self.width * self.height\n",
    "\n",
    "    def perimeter(self):\n",
    "        return 2 * (self.width + self.height)\n",
    "\n",
    "class Circle(Shape):\n",
    "    def __init__(self, radius):\n",
    "        self.radius = radius\n",
    "\n",
    "    def area(self):\n",
    "        return 3.14 * self.radius * self.radius\n",
    "\n",
    "    def perimeter(self):\n",
    "        return 2 * 3.14 * self.radius\n",
    "\n",
    "# Usage\n",
    "shapes = [Rectangle(2, 3), Circle(5)]\n",
    "for shape in shapes:\n",
    "    print(f\"Area: {shape.area()}, Perimeter: {shape.perimeter()}\")\n"
   ]
  },
  {
   "cell_type": "markdown",
   "id": "005e8df5-66f2-404e-9c49-c7b110ea3001",
   "metadata": {},
   "source": [
    "#### Java Example"
   ]
  },
  {
   "cell_type": "code",
   "execution_count": null,
   "id": "dfa62d48-4209-442b-b22e-49db50c55dba",
   "metadata": {},
   "outputs": [],
   "source": [
    "abstract class Employee {\n",
    "    String name;\n",
    "    int id;\n",
    "\n",
    "    Employee(String name, int id) {\n",
    "        this.name = name;\n",
    "        this.id = id;\n",
    "    }\n",
    "\n",
    "    abstract double calculatePay();\n",
    "}\n",
    "\n",
    "class SalariedEmployee extends Employee {\n",
    "    double salary;\n",
    "\n",
    "    SalariedEmployee(String name, int id, double salary) {\n",
    "        super(name, id);\n",
    "        this.salary = salary;\n",
    "    }\n",
    "\n",
    "    @Override\n",
    "    double calculatePay() {\n",
    "        return salary;\n",
    "    }\n",
    "}\n",
    "\n",
    "class HourlyEmployee extends Employee {\n",
    "    double hourlyRate;\n",
    "    int hoursWorked;\n",
    "\n",
    "    HourlyEmployee(String name, int id, double hourlyRate, int hoursWorked) {\n",
    "        super(name, id);\n",
    "        this.hourlyRate = hourlyRate;\n",
    "        this.hoursWorked = hoursWorked;\n",
    "    }\n",
    "\n",
    "    @Override\n",
    "    double calculatePay() {\n",
    "        return hourlyRate * hoursWorked;\n",
    "    }\n",
    "}\n"
   ]
  },
  {
   "cell_type": "markdown",
   "id": "ec83bcc6-ec3c-40dd-b6aa-5401b9627089",
   "metadata": {},
   "source": [
    "## interface, implements\n",
    "- Interface: A contract that defines a set of methods without implementing them.\n",
    "- It specifies \"what\" a class should do but not \"how\" it should do it.\n",
    "- Implements: Keyword used in some languages to denote that a class is implementing an interface.\n",
    "- Python does not have a built-in interface keyword. interfaces can be implemented using abstract base classes (ABCs). (similar to above example)"
   ]
  },
  {
   "cell_type": "code",
   "execution_count": 195,
   "id": "92414c5d-7acd-476a-8bf3-aefb0f370526",
   "metadata": {},
   "outputs": [
    {
     "name": "stdout",
     "output_type": "stream",
     "text": [
      "Speak: Bark, Move: Run\n",
      "Speak: Meow, Move: Walk\n"
     ]
    }
   ],
   "source": [
    "from abc import ABC, abstractmethod\n",
    "\n",
    "class Animal(ABC):\n",
    "    @abstractmethod\n",
    "    def speak(self):\n",
    "        pass\n",
    "\n",
    "    @abstractmethod\n",
    "    def move(self):\n",
    "        pass\n",
    "\n",
    "class Dog(Animal):\n",
    "    def speak(self):\n",
    "        return \"Bark\"\n",
    "\n",
    "    def move(self):\n",
    "        return \"Run\"\n",
    "\n",
    "class Cat(Animal):\n",
    "    def speak(self):\n",
    "        return \"Meow\"\n",
    "\n",
    "    def move(self):\n",
    "        return \"Walk\"\n",
    "\n",
    "# Usage\n",
    "animals = [Dog(), Cat()]\n",
    "for animal in animals:\n",
    "    print(f\"Speak: {animal.speak()}, Move: {animal.move()}\")\n"
   ]
  },
  {
   "cell_type": "markdown",
   "id": "090cc430-26a8-46a5-82d3-9ef2af99b62c",
   "metadata": {},
   "source": [
    "#### Java Example"
   ]
  },
  {
   "cell_type": "code",
   "execution_count": null,
   "id": "5e823dac-c0ae-4ebf-a88b-aea0d56b1c72",
   "metadata": {},
   "outputs": [],
   "source": [
    "interface Flyable {\n",
    "    void fly();\n",
    "}\n",
    "\n",
    "interface Swimmable {\n",
    "    void swim();\n",
    "}\n",
    "\n",
    "class Duck implements Flyable, Swimmable {\n",
    "    @Override\n",
    "    public void fly() {\n",
    "        System.out.println(\"Duck is flying\");\n",
    "    }\n",
    "\n",
    "    @Override\n",
    "    public void swim() {\n",
    "        System.out.println(\"Duck is swimming\");\n",
    "    }\n",
    "}\n"
   ]
  },
  {
   "cell_type": "markdown",
   "id": "509d566f-7071-4d37-8bdb-0703ff548ea4",
   "metadata": {},
   "source": [
    "## encapsulation\n",
    "- Bundling the data and methods that operate on the data into a single unit, typically a class, and restricting access to some of the object's components.\n"
   ]
  },
  {
   "cell_type": "code",
   "execution_count": null,
   "id": "f951075d-0fa6-4a05-9ba8-90296395dbb3",
   "metadata": {},
   "outputs": [],
   "source": [
    "class Person:\n",
    "    def __init__(self, name, age):\n",
    "        self.__name = name  # private attribute\n",
    "        self.__age = age    # private attribute\n",
    "\n",
    "    def get_name(self):\n",
    "        return self.__name\n",
    "\n",
    "    def set_name(self, name):\n",
    "        self.__name = name\n",
    "\n",
    "    def get_age(self):\n",
    "        return self.__age\n",
    "\n",
    "    def set_age(self, age):\n",
    "        if age > 0:\n",
    "            self.__age = age\n",
    "        else:\n",
    "            raise ValueError(\"Age must be positive\")\n",
    "\n",
    "# Usage\n",
    "person = Person(\"Alice\", 30)\n",
    "print(person.get_name())  # Output: Alice\n",
    "person.set_age(31)\n",
    "print(person.get_age())   # Output: 31\n"
   ]
  },
  {
   "cell_type": "markdown",
   "id": "d58f1a8c-e777-4814-b2a8-9e776f655d4f",
   "metadata": {},
   "source": [
    "## composition\n",
    "- A design principle where a class is composed of one or more objects from other classes, rather than inheriting from them.\n",
    "- Car class has a engine class, suspensin class, braking class, ..."
   ]
  },
  {
   "cell_type": "code",
   "execution_count": 197,
   "id": "62b52156-0c3e-4d6b-9fda-a6b73bae5c2e",
   "metadata": {},
   "outputs": [
    {
     "name": "stdout",
     "output_type": "stream",
     "text": [
      "Engine started\n",
      "Brake applied\n"
     ]
    }
   ],
   "source": [
    "class Engine:\n",
    "    def start(self):\n",
    "        return \"Engine started\"\n",
    "\n",
    "class Brake:\n",
    "    def apply_brake(self):\n",
    "        return \"Brake applied\"\n",
    "\n",
    "class Car:\n",
    "    def __init__(self):\n",
    "        self.engine = Engine()  # Car has an Engine\n",
    "        self.brake = Brake()\n",
    "\n",
    "    def start(self):\n",
    "        return self.engine.start()\n",
    "\n",
    "    def slow_down(self):\n",
    "        return self.brake.apply_brake()\n",
    "# Usage\n",
    "car = Car()\n",
    "print(car.start())  \n",
    "print(car.slow_down())  "
   ]
  },
  {
   "cell_type": "markdown",
   "id": "5b76e794-728b-4bbf-86fc-10494eac9f99",
   "metadata": {},
   "source": [
    "## Aggregation\n",
    "- A form of composition where a class is composed of objects that can exist independently of the parent class."
   ]
  },
  {
   "cell_type": "code",
   "execution_count": 198,
   "id": "d8de668d-cb52-4cbb-a9c1-18f3ae038442",
   "metadata": {},
   "outputs": [
    {
     "name": "stdout",
     "output_type": "stream",
     "text": [
      "['Alice', 'Bob']\n"
     ]
    }
   ],
   "source": [
    "class TeamMember:\n",
    "    def __init__(self, name):\n",
    "        self.name = name\n",
    "\n",
    "class Team:\n",
    "    def __init__(self):\n",
    "        self.members = []\n",
    "\n",
    "    def add_member(self, member):\n",
    "        self.members.append(member)\n",
    "\n",
    "    def get_members(self):\n",
    "        return [member.name for member in self.members]\n",
    "\n",
    "# Usage\n",
    "member1 = TeamMember(\"Alice\")\n",
    "member2 = TeamMember(\"Bob\")\n",
    "team = Team()\n",
    "team.add_member(member1)\n",
    "team.add_member(member2)\n",
    "print(team.get_members())  \n"
   ]
  },
  {
   "cell_type": "markdown",
   "id": "ce0c5d92-58a5-417a-ba59-a37defa1a653",
   "metadata": {},
   "source": [
    "## Association\n",
    "- A relationship between two classes that establishes a connection between their objects."
   ]
  },
  {
   "cell_type": "code",
   "execution_count": 199,
   "id": "4f584397-42ad-4936-a951-22a0557b86d0",
   "metadata": {},
   "outputs": [
    {
     "name": "stdout",
     "output_type": "stream",
     "text": [
      "Mr. Smith\n"
     ]
    }
   ],
   "source": [
    "class Teacher:\n",
    "    def __init__(self, name):\n",
    "        self.name = name\n",
    "\n",
    "class Course:\n",
    "    def __init__(self, title):\n",
    "        self.title = title\n",
    "        self.teacher = None\n",
    "\n",
    "    def assign_teacher(self, teacher):\n",
    "        self.teacher = teacher\n",
    "\n",
    "# Usage\n",
    "teacher = Teacher(\"Mr. Smith\")\n",
    "course = Course(\"Math\")\n",
    "course.assign_teacher(teacher)\n",
    "print(course.teacher.name)  \n"
   ]
  },
  {
   "cell_type": "markdown",
   "id": "74c7f80b-a04f-48e5-81ab-6cbbed05379d",
   "metadata": {},
   "source": [
    "## Dependency Injection\n",
    "- A design pattern in which an object receives other objects that it depends on, rather than creating them itself."
   ]
  },
  {
   "cell_type": "code",
   "execution_count": 200,
   "id": "7f40097a-56ce-4006-987f-49f80ccb708f",
   "metadata": {},
   "outputs": [
    {
     "name": "stdout",
     "output_type": "stream",
     "text": [
      "Connected to MySQL\n",
      "Executing 'SELECT * FROM users' on MySQL\n",
      "Connected to Oracle\n",
      "Executing 'SELECT * FROM employees' on Oracle\n",
      "Connected to PostgreSQL\n",
      "Executing 'SELECT * FROM products' on PostgreSQL\n"
     ]
    }
   ],
   "source": [
    "from abc import ABC, abstractmethod\n",
    "\n",
    "# Step 1: Define the abstract base class for the database connector\n",
    "class DatabaseConnector(ABC):\n",
    "    @abstractmethod\n",
    "    def connect(self):\n",
    "        pass\n",
    "\n",
    "    @abstractmethod\n",
    "    def execute_query(self, query):\n",
    "        pass\n",
    "\n",
    "# Step 2: Implement the MySQL connector\n",
    "class MySQLConnector(DatabaseConnector):\n",
    "    def connect(self):\n",
    "        return \"Connected to MySQL\"\n",
    "\n",
    "    def execute_query(self, query):\n",
    "        return f\"Executing '{query}' on MySQL\"\n",
    "\n",
    "# Step 3: Implement the Oracle connector\n",
    "class OracleConnector(DatabaseConnector):\n",
    "    def connect(self):\n",
    "        return \"Connected to Oracle\"\n",
    "\n",
    "    def execute_query(self, query):\n",
    "        return f\"Executing '{query}' on Oracle\"\n",
    "\n",
    "# Step 4: Implement the PostgreSQL connector\n",
    "class PostgresConnector(DatabaseConnector):\n",
    "    def connect(self):\n",
    "        return \"Connected to PostgreSQL\"\n",
    "\n",
    "    def execute_query(self, query):\n",
    "        return f\"Executing '{query}' on PostgreSQL\"\n",
    "\n",
    "# Step 5: Define the DatabaseService class which uses dependency injection\n",
    "class DatabaseService:\n",
    "    def __init__(self, db_connector: DatabaseConnector):\n",
    "        self.db_connector = db_connector\n",
    "        print(self.db_connector.connect())\n",
    "\n",
    "    def run_query(self, query):\n",
    "        return self.db_connector.execute_query(query)\n",
    "\n",
    "# Step 6: Usage\n",
    "# Choose a connector and inject it into the DatabaseService\n",
    "mysql_connector = MySQLConnector()\n",
    "oracle_connector = OracleConnector()\n",
    "postgres_connector = PostgresConnector()\n",
    "\n",
    "# Create a database service with the desired connector\n",
    "db_service_mysql = DatabaseService(mysql_connector)\n",
    "print(db_service_mysql.run_query(\"SELECT * FROM users\"))\n",
    "\n",
    "db_service_oracle = DatabaseService(oracle_connector)\n",
    "print(db_service_oracle.run_query(\"SELECT * FROM employees\"))\n",
    "\n",
    "db_service_postgres = DatabaseService(postgres_connector)\n",
    "print(db_service_postgres.run_query(\"SELECT * FROM products\"))\n"
   ]
  },
  {
   "cell_type": "code",
   "execution_count": null,
   "id": "32d5b648-271d-44e1-9a45-b0f5ed197185",
   "metadata": {},
   "outputs": [],
   "source": []
  }
 ],
 "metadata": {
  "kernelspec": {
   "display_name": "Python 3 (ipykernel)",
   "language": "python",
   "name": "python3"
  },
  "language_info": {
   "codemirror_mode": {
    "name": "ipython",
    "version": 3
   },
   "file_extension": ".py",
   "mimetype": "text/x-python",
   "name": "python",
   "nbconvert_exporter": "python",
   "pygments_lexer": "ipython3",
   "version": "3.11.9"
  }
 },
 "nbformat": 4,
 "nbformat_minor": 5
}
